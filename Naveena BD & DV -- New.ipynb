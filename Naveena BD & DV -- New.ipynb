{
 "cells": [
  {
   "cell_type": "code",
   "execution_count": 1,
   "metadata": {},
   "outputs": [],
   "source": [
    "from pyspark.sql import SparkSession\n",
    "from pyspark.sql.types import *\n",
    "from pyspark.sql.functions import *\n",
    "from datetime import date\n",
    "from pyspark.sql.functions import from_utc_timestamp"
   ]
  },
  {
   "cell_type": "code",
   "execution_count": 2,
   "metadata": {},
   "outputs": [],
   "source": [
    "spark = SparkSession.builder.appName(\"BigData & Visualization CW\").getOrCreate()"
   ]
  },
  {
   "cell_type": "code",
   "execution_count": 3,
   "metadata": {},
   "outputs": [],
   "source": [
    "E_commerce = spark.read.csv('/Users/manoj/Desktop/Naveena Project', header = True)"
   ]
  },
  {
   "cell_type": "code",
   "execution_count": 4,
   "metadata": {},
   "outputs": [
    {
     "name": "stdout",
     "output_type": "stream",
     "text": [
      "+--------------------+-------------------+-------------------+-------------------+--------------------+-------+------+-------------------+\n",
      "|          event_time|           order_id|         product_id|        category_id|       category_code|  brand| price|            user_id|\n",
      "+--------------------+-------------------+-------------------+-------------------+--------------------+-------+------+-------------------+\n",
      "|2020-04-24 11:50:...|2294359932054536986|1515966223509089906|2268105426648170900|  electronics.tablet|samsung|162.01|1515915625441993984|\n",
      "|2020-04-24 11:50:...|2294359932054536986|1515966223509089906|2268105426648170900|  electronics.tablet|samsung|162.01|1515915625441993984|\n",
      "|2020-04-24 14:37:...|2294444024058086220|2273948319057183658|2268105430162997728|electronics.audio...| huawei| 77.52|1515915625447879434|\n",
      "|2020-04-24 14:37:...|2294444024058086220|2273948319057183658|2268105430162997728|electronics.audio...| huawei| 77.52|1515915625447879434|\n",
      "|2020-04-24 19:16:...|2294584263154074236|2273948316817424439|2268105471367840086|                null|karcher|217.57|1515915625443148002|\n",
      "+--------------------+-------------------+-------------------+-------------------+--------------------+-------+------+-------------------+\n",
      "only showing top 5 rows\n",
      "\n"
     ]
    }
   ],
   "source": [
    "E_commerce.show (5)"
   ]
  },
  {
   "cell_type": "code",
   "execution_count": 5,
   "metadata": {},
   "outputs": [
    {
     "data": {
      "text/plain": [
       "2633521"
      ]
     },
     "execution_count": 5,
     "metadata": {},
     "output_type": "execute_result"
    }
   ],
   "source": [
    "E_commerce.count()"
   ]
  },
  {
   "cell_type": "code",
   "execution_count": 6,
   "metadata": {},
   "outputs": [],
   "source": [
    "E_commerce1 = E_commerce.withColumnRenamed(\"event_time\", \"Event_Time\").withColumnRenamed(\"order_id\", \"Order_ID\").withColumnRenamed(\"product_id\", \"Product_ID\").withColumnRenamed(\"category_id\", \"Category_ID\").withColumnRenamed(\"category_code\", \"Category_Code\").withColumnRenamed(\"brand\", \"Brand\").withColumnRenamed(\"price\", \"Price\").withColumnRenamed(\"user_id\", \"User_ID\")"
   ]
  },
  {
   "cell_type": "code",
   "execution_count": 7,
   "metadata": {},
   "outputs": [
    {
     "name": "stdout",
     "output_type": "stream",
     "text": [
      "+--------------------+-------------------+-------------------+-------------------+--------------------+-------+------+-------------------+\n",
      "|          Event_Time|           Order_ID|         Product_ID|        Category_ID|       Category_Code|  Brand| Price|            User_ID|\n",
      "+--------------------+-------------------+-------------------+-------------------+--------------------+-------+------+-------------------+\n",
      "|2020-04-24 11:50:...|2294359932054536986|1515966223509089906|2268105426648170900|  electronics.tablet|samsung|162.01|1515915625441993984|\n",
      "|2020-04-24 11:50:...|2294359932054536986|1515966223509089906|2268105426648170900|  electronics.tablet|samsung|162.01|1515915625441993984|\n",
      "|2020-04-24 14:37:...|2294444024058086220|2273948319057183658|2268105430162997728|electronics.audio...| huawei| 77.52|1515915625447879434|\n",
      "|2020-04-24 14:37:...|2294444024058086220|2273948319057183658|2268105430162997728|electronics.audio...| huawei| 77.52|1515915625447879434|\n",
      "|2020-04-24 19:16:...|2294584263154074236|2273948316817424439|2268105471367840086|                null|karcher|217.57|1515915625443148002|\n",
      "+--------------------+-------------------+-------------------+-------------------+--------------------+-------+------+-------------------+\n",
      "only showing top 5 rows\n",
      "\n"
     ]
    }
   ],
   "source": [
    "E_commerce1.show(5)"
   ]
  },
  {
   "cell_type": "code",
   "execution_count": 8,
   "metadata": {},
   "outputs": [
    {
     "name": "stdout",
     "output_type": "stream",
     "text": [
      "root\n",
      " |-- Event_Time: string (nullable = true)\n",
      " |-- Order_ID: string (nullable = true)\n",
      " |-- Product_ID: string (nullable = true)\n",
      " |-- Category_ID: string (nullable = true)\n",
      " |-- Category_Code: string (nullable = true)\n",
      " |-- Brand: string (nullable = true)\n",
      " |-- Price: string (nullable = true)\n",
      " |-- User_ID: string (nullable = true)\n",
      "\n"
     ]
    }
   ],
   "source": [
    "E_commerce1.printSchema()"
   ]
  },
  {
   "cell_type": "code",
   "execution_count": 9,
   "metadata": {},
   "outputs": [
    {
     "data": {
      "text/plain": [
       "[('Event_Time', 'string'),\n",
       " ('Order_ID', 'string'),\n",
       " ('Product_ID', 'string'),\n",
       " ('Category_ID', 'string'),\n",
       " ('Category_Code', 'string'),\n",
       " ('Brand', 'string'),\n",
       " ('Price', 'string'),\n",
       " ('User_ID', 'string')]"
      ]
     },
     "execution_count": 9,
     "metadata": {},
     "output_type": "execute_result"
    }
   ],
   "source": [
    "E_commerce1.dtypes"
   ]
  },
  {
   "cell_type": "code",
   "execution_count": 10,
   "metadata": {},
   "outputs": [],
   "source": [
    "E_commerce1 = E_commerce1.withColumn(\"Event_Time\", E_commerce1[\"Event_Time\"].cast(DateType())) .withColumn(\"Order_ID\", E_commerce1[\"Order_ID\"].cast(StringType())) .withColumn(\"Product_ID\", E_commerce1[\"Product_ID\"].cast(StringType())) .withColumn(\"Category_ID\", E_commerce1[\"Category_ID\"].cast(FloatType())) .withColumn(\"Category_Code\", E_commerce1[\"Category_Code\"].cast(StringType())) .withColumn(\"Brand\", E_commerce1[\"Brand\"].cast(StringType())) .withColumn(\"Price\", E_commerce1[\"Price\"].cast(FloatType())) .withColumn(\"User_ID\", E_commerce1[\"User_ID\"].cast(FloatType()))"
   ]
  },
  {
   "cell_type": "code",
   "execution_count": 11,
   "metadata": {},
   "outputs": [
    {
     "name": "stdout",
     "output_type": "stream",
     "text": [
      "root\n",
      " |-- Event_Time: date (nullable = true)\n",
      " |-- Order_ID: string (nullable = true)\n",
      " |-- Product_ID: string (nullable = true)\n",
      " |-- Category_ID: float (nullable = true)\n",
      " |-- Category_Code: string (nullable = true)\n",
      " |-- Brand: string (nullable = true)\n",
      " |-- Price: float (nullable = true)\n",
      " |-- User_ID: float (nullable = true)\n",
      "\n"
     ]
    }
   ],
   "source": [
    "E_commerce1.printSchema()"
   ]
  },
  {
   "cell_type": "code",
   "execution_count": 12,
   "metadata": {},
   "outputs": [
    {
     "name": "stdout",
     "output_type": "stream",
     "text": [
      "+----------+-------------------+-------------------+-------------+--------------------+-------+------+-------------+\n",
      "|Event_Time|           Order_ID|         Product_ID|  Category_ID|       Category_Code|  Brand| Price|      User_ID|\n",
      "+----------+-------------------+-------------------+-------------+--------------------+-------+------+-------------+\n",
      "|2020-04-24|2294359932054536986|1515966223509089906|2.26810543E18|  electronics.tablet|samsung|162.01|1.51591565E18|\n",
      "|2020-04-24|2294359932054536986|1515966223509089906|2.26810543E18|  electronics.tablet|samsung|162.01|1.51591565E18|\n",
      "|2020-04-24|2294444024058086220|2273948319057183658|2.26810543E18|electronics.audio...| huawei| 77.52|1.51591565E18|\n",
      "|2020-04-24|2294444024058086220|2273948319057183658|2.26810543E18|electronics.audio...| huawei| 77.52|1.51591565E18|\n",
      "|2020-04-24|2294584263154074236|2273948316817424439|2.26810543E18|                null|karcher|217.57|1.51591565E18|\n",
      "+----------+-------------------+-------------------+-------------+--------------------+-------+------+-------------+\n",
      "only showing top 5 rows\n",
      "\n"
     ]
    }
   ],
   "source": [
    "E_commerce1.select(['Event_Time', 'Order_ID', 'Product_ID', 'Category_ID', 'Category_Code', 'Brand', 'Price', 'User_ID']).sort(['Order_ID', 'User_ID'], ascending=[True, True]).show(5)"
   ]
  },
  {
   "cell_type": "code",
   "execution_count": 13,
   "metadata": {},
   "outputs": [],
   "source": [
    "E_commerce2 = E_commerce1.filter(E_commerce1.Event_Time != \"1970\")"
   ]
  },
  {
   "cell_type": "code",
   "execution_count": 14,
   "metadata": {},
   "outputs": [
    {
     "name": "stdout",
     "output_type": "stream",
     "text": [
      "+----------+-------------------+-------------------+-------------+--------------------+-------+------+-------------+\n",
      "|Event_Time|           Order_ID|         Product_ID|  Category_ID|       Category_Code|  Brand| Price|      User_ID|\n",
      "+----------+-------------------+-------------------+-------------+--------------------+-------+------+-------------+\n",
      "|2020-04-24|2294359932054536986|1515966223509089906|2.26810543E18|  electronics.tablet|samsung|162.01|1.51591565E18|\n",
      "|2020-04-24|2294359932054536986|1515966223509089906|2.26810543E18|  electronics.tablet|samsung|162.01|1.51591565E18|\n",
      "|2020-04-24|2294444024058086220|2273948319057183658|2.26810543E18|electronics.audio...| huawei| 77.52|1.51591565E18|\n",
      "|2020-04-24|2294444024058086220|2273948319057183658|2.26810543E18|electronics.audio...| huawei| 77.52|1.51591565E18|\n",
      "|2020-04-24|2294584263154074236|2273948316817424439|2.26810543E18|                null|karcher|217.57|1.51591565E18|\n",
      "+----------+-------------------+-------------------+-------------+--------------------+-------+------+-------------+\n",
      "only showing top 5 rows\n",
      "\n"
     ]
    }
   ],
   "source": [
    "E_commerce2.show(5)"
   ]
  },
  {
   "cell_type": "code",
   "execution_count": 15,
   "metadata": {},
   "outputs": [
    {
     "data": {
      "text/plain": [
       "2613890"
      ]
     },
     "execution_count": 15,
     "metadata": {},
     "output_type": "execute_result"
    }
   ],
   "source": [
    "E_commerce2.count()"
   ]
  },
  {
   "cell_type": "code",
   "execution_count": 16,
   "metadata": {},
   "outputs": [],
   "source": [
    "E_commerce3 = E_commerce2.drop('Category_ID')"
   ]
  },
  {
   "cell_type": "code",
   "execution_count": 17,
   "metadata": {},
   "outputs": [
    {
     "name": "stdout",
     "output_type": "stream",
     "text": [
      "+----------+-------------------+-------------------+--------------------+-------+-------+-------------+\n",
      "|Event_Time|           Order_ID|         Product_ID|       Category_Code|  Brand|  Price|      User_ID|\n",
      "+----------+-------------------+-------------------+--------------------+-------+-------+-------------+\n",
      "|2020-04-24|2294359932054536986|1515966223509089906|  electronics.tablet|samsung| 162.01|1.51591565E18|\n",
      "|2020-04-24|2294359932054536986|1515966223509089906|  electronics.tablet|samsung| 162.01|1.51591565E18|\n",
      "|2020-04-24|2294444024058086220|2273948319057183658|electronics.audio...| huawei|  77.52|1.51591565E18|\n",
      "|2020-04-24|2294444024058086220|2273948319057183658|electronics.audio...| huawei|  77.52|1.51591565E18|\n",
      "|2020-04-24|2294584263154074236|2273948316817424439|                null|karcher| 217.57|1.51591565E18|\n",
      "|2020-04-26|2295716521449619559|1515966223509261697|furniture.kitchen...|maestro|  39.33|1.51591565E18|\n",
      "|2020-04-26|2295740594749702229|1515966223509104892|electronics.smart...|  apple|1387.01|1.51591565E18|\n",
      "|2020-04-26|2295740594749702229|1515966223509104892|electronics.smart...|  apple|1387.01|1.51591565E18|\n",
      "|2020-04-26|2295740594749702229|1515966223509104892|electronics.smart...|  apple|1387.01|1.51591565E18|\n",
      "|2020-04-26|2295740594749702229|1515966223509104892|electronics.smart...|  apple|1387.01|1.51591565E18|\n",
      "|2020-04-26|2295902490203259134|2273948311742316796|appliances.kitche...|     lg| 462.94|1.51591565E18|\n",
      "|2020-04-26|2296164324487463110|1515966223509259473|appliances.person...|polaris|  30.07|1.51591565E18|\n",
      "|2020-04-27|2296400480990920715|2273948308663698152|electronics.video.tv|samsung| 416.64|1.51591565E18|\n",
      "|2020-04-27|2296628237930857206|1515966223509089660|computers.compone...|  intel|  91.41|1.51591565E18|\n",
      "|2020-04-27|2296628237930857206|1515966223509089660|computers.compone...|  intel|  91.41|1.51591565E18|\n",
      "|2020-04-27|2296628237930857206|1515966223509089660|computers.compone...|  intel|  91.41|1.51591565E18|\n",
      "|2020-04-28|2296972701060825130|1515966223509104683|                null|philips|  23.13|1.51591565E18|\n",
      "|2020-04-28|2297016008231092565|1515966223509089780|  computers.notebook|   asus| 509.24|1.51591565E18|\n",
      "|2020-04-28|2297034737199350540|1515966223509719628|                null|   null|   6.94|1.51591565E18|\n",
      "|2020-04-28|2297034737199350540|1515966223509719628|                null|   null|   6.94|1.51591565E18|\n",
      "+----------+-------------------+-------------------+--------------------+-------+-------+-------------+\n",
      "only showing top 20 rows\n",
      "\n"
     ]
    }
   ],
   "source": [
    "E_commerce3.show()"
   ]
  },
  {
   "cell_type": "code",
   "execution_count": 18,
   "metadata": {},
   "outputs": [
    {
     "name": "stdout",
     "output_type": "stream",
     "text": [
      "+----------+-------------------+-------------------+--------------------+-------+-------+-------------+\n",
      "|Event_Time|           Order_ID|         Product_ID|       Category_Code|  Brand|  Price|      User_ID|\n",
      "+----------+-------------------+-------------------+--------------------+-------+-------+-------------+\n",
      "|2020-04-24|2294359932054536986|1515966223509089906|  electronics.tablet|samsung| 162.01|1.51591565E18|\n",
      "|2020-04-24|2294359932054536986|1515966223509089906|  electronics.tablet|samsung| 162.01|1.51591565E18|\n",
      "|2020-04-24|2294444024058086220|2273948319057183658|electronics.audio...| huawei|  77.52|1.51591565E18|\n",
      "|2020-04-24|2294444024058086220|2273948319057183658|electronics.audio...| huawei|  77.52|1.51591565E18|\n",
      "|2020-04-26|2295716521449619559|1515966223509261697|furniture.kitchen...|maestro|  39.33|1.51591565E18|\n",
      "|2020-04-26|2295740594749702229|1515966223509104892|electronics.smart...|  apple|1387.01|1.51591565E18|\n",
      "|2020-04-26|2295740594749702229|1515966223509104892|electronics.smart...|  apple|1387.01|1.51591565E18|\n",
      "|2020-04-26|2295740594749702229|1515966223509104892|electronics.smart...|  apple|1387.01|1.51591565E18|\n",
      "|2020-04-26|2295740594749702229|1515966223509104892|electronics.smart...|  apple|1387.01|1.51591565E18|\n",
      "|2020-04-26|2295902490203259134|2273948311742316796|appliances.kitche...|     lg| 462.94|1.51591565E18|\n",
      "|2020-04-26|2296164324487463110|1515966223509259473|appliances.person...|polaris|  30.07|1.51591565E18|\n",
      "|2020-04-27|2296400480990920715|2273948308663698152|electronics.video.tv|samsung| 416.64|1.51591565E18|\n",
      "|2020-04-27|2296628237930857206|1515966223509089660|computers.compone...|  intel|  91.41|1.51591565E18|\n",
      "|2020-04-27|2296628237930857206|1515966223509089660|computers.compone...|  intel|  91.41|1.51591565E18|\n",
      "|2020-04-27|2296628237930857206|1515966223509089660|computers.compone...|  intel|  91.41|1.51591565E18|\n",
      "|2020-04-28|2297016008231092565|1515966223509089780|  computers.notebook|   asus| 509.24|1.51591565E18|\n",
      "|2020-04-28|2297174044555871159|2273948222957290212|computers.periphe...|samsung| 254.61|1.51591565E18|\n",
      "|2020-04-28|2297174044555871159|2273948222957290212|computers.periphe...|samsung| 254.61|1.51591565E18|\n",
      "|2020-04-28|2297252054407578606|2273948303177548033|computers.periphe...|  epson| 164.33|1.51591565E18|\n",
      "|2020-04-28|2297252054407578606|2273948303177548033|computers.periphe...|  epson| 164.33|1.51591565E18|\n",
      "+----------+-------------------+-------------------+--------------------+-------+-------+-------------+\n",
      "only showing top 20 rows\n",
      "\n"
     ]
    }
   ],
   "source": [
    "E_commerce3.replace('', 'null').na.drop().show()"
   ]
  },
  {
   "cell_type": "code",
   "execution_count": 19,
   "metadata": {},
   "outputs": [
    {
     "name": "stdout",
     "output_type": "stream",
     "text": [
      "+-------+------+\n",
      "|  Brand| count|\n",
      "+-------+------+\n",
      "|   null|501334|\n",
      "|samsung|356462|\n",
      "|    ava|117480|\n",
      "|  tefal| 78147|\n",
      "|  apple| 74051|\n",
      "| huawei| 56658|\n",
      "|     lg| 55343|\n",
      "|philips| 51912|\n",
      "|    neo| 42321|\n",
      "|polaris| 40434|\n",
      "+-------+------+\n",
      "only showing top 10 rows\n",
      "\n"
     ]
    }
   ],
   "source": [
    "E_commerce3.groupBy('Brand').count().sort(desc(\"count\")).show(10)"
   ]
  },
  {
   "cell_type": "code",
   "execution_count": 20,
   "metadata": {},
   "outputs": [
    {
     "name": "stdout",
     "output_type": "stream",
     "text": [
      "+--------------------+------+\n",
      "|       Category_Code| count|\n",
      "+--------------------+------+\n",
      "|                null|607223|\n",
      "|electronics.smart...|354848|\n",
      "|appliances.kitche...| 77023|\n",
      "|               16.18| 72321|\n",
      "|  computers.notebook| 71103|\n",
      "|electronics.video.tv| 70995|\n",
      "|appliances.enviro...| 65983|\n",
      "|electronics.audio...| 65650|\n",
      "|appliances.kitche...| 62309|\n",
      "|appliances.kitche...| 55892|\n",
      "+--------------------+------+\n",
      "only showing top 10 rows\n",
      "\n"
     ]
    }
   ],
   "source": [
    "E_commerce3.groupBy('Category_Code').count().sort(desc(\"count\")).show(10)"
   ]
  },
  {
   "cell_type": "code",
   "execution_count": 23,
   "metadata": {},
   "outputs": [],
   "source": [
    "E_commerce4 = E_commerce3.na.drop()"
   ]
  },
  {
   "cell_type": "code",
   "execution_count": 24,
   "metadata": {},
   "outputs": [
    {
     "name": "stdout",
     "output_type": "stream",
     "text": [
      "+----------+-------------------+-------------------+--------------------+-------+-------+-------------+\n",
      "|Event_Time|           Order_ID|         Product_ID|       Category_Code|  Brand|  Price|      User_ID|\n",
      "+----------+-------------------+-------------------+--------------------+-------+-------+-------------+\n",
      "|2020-04-24|2294359932054536986|1515966223509089906|  electronics.tablet|samsung| 162.01|1.51591565E18|\n",
      "|2020-04-24|2294359932054536986|1515966223509089906|  electronics.tablet|samsung| 162.01|1.51591565E18|\n",
      "|2020-04-24|2294444024058086220|2273948319057183658|electronics.audio...| huawei|  77.52|1.51591565E18|\n",
      "|2020-04-24|2294444024058086220|2273948319057183658|electronics.audio...| huawei|  77.52|1.51591565E18|\n",
      "|2020-04-26|2295716521449619559|1515966223509261697|furniture.kitchen...|maestro|  39.33|1.51591565E18|\n",
      "|2020-04-26|2295740594749702229|1515966223509104892|electronics.smart...|  apple|1387.01|1.51591565E18|\n",
      "|2020-04-26|2295740594749702229|1515966223509104892|electronics.smart...|  apple|1387.01|1.51591565E18|\n",
      "|2020-04-26|2295740594749702229|1515966223509104892|electronics.smart...|  apple|1387.01|1.51591565E18|\n",
      "|2020-04-26|2295740594749702229|1515966223509104892|electronics.smart...|  apple|1387.01|1.51591565E18|\n",
      "|2020-04-26|2295902490203259134|2273948311742316796|appliances.kitche...|     lg| 462.94|1.51591565E18|\n",
      "|2020-04-26|2296164324487463110|1515966223509259473|appliances.person...|polaris|  30.07|1.51591565E18|\n",
      "|2020-04-27|2296400480990920715|2273948308663698152|electronics.video.tv|samsung| 416.64|1.51591565E18|\n",
      "|2020-04-27|2296628237930857206|1515966223509089660|computers.compone...|  intel|  91.41|1.51591565E18|\n",
      "|2020-04-27|2296628237930857206|1515966223509089660|computers.compone...|  intel|  91.41|1.51591565E18|\n",
      "|2020-04-27|2296628237930857206|1515966223509089660|computers.compone...|  intel|  91.41|1.51591565E18|\n",
      "|2020-04-28|2297016008231092565|1515966223509089780|  computers.notebook|   asus| 509.24|1.51591565E18|\n",
      "|2020-04-28|2297174044555871159|2273948222957290212|computers.periphe...|samsung| 254.61|1.51591565E18|\n",
      "|2020-04-28|2297174044555871159|2273948222957290212|computers.periphe...|samsung| 254.61|1.51591565E18|\n",
      "|2020-04-28|2297252054407578606|2273948303177548033|computers.periphe...|  epson| 164.33|1.51591565E18|\n",
      "|2020-04-28|2297252054407578606|2273948303177548033|computers.periphe...|  epson| 164.33|1.51591565E18|\n",
      "+----------+-------------------+-------------------+--------------------+-------+-------+-------------+\n",
      "only showing top 20 rows\n",
      "\n"
     ]
    }
   ],
   "source": [
    "E_commerce4.show()"
   ]
  },
  {
   "cell_type": "code",
   "execution_count": 25,
   "metadata": {},
   "outputs": [
    {
     "data": {
      "text/plain": [
       "419890"
      ]
     },
     "execution_count": 25,
     "metadata": {},
     "output_type": "execute_result"
    }
   ],
   "source": [
    "E_commerce4.count()"
   ]
  },
  {
   "cell_type": "code",
   "execution_count": 26,
   "metadata": {},
   "outputs": [
    {
     "name": "stdout",
     "output_type": "stream",
     "text": [
      "+-------------------+-------------------+--------------------+-----------+-------+-----+\n",
      "|           Order_ID|         Product_ID|       Category_Code|      Brand|  Price|count|\n",
      "+-------------------+-------------------+--------------------+-----------+-------+-----+\n",
      "|2295740594749702229|1515966223509104892|electronics.smart...|      apple|1387.01|    4|\n",
      "|2388440981134674698|1515966223509106757|appliances.enviro...|    samsung| 366.41|    4|\n",
      "|2375043331555066740|2273948308370096764|computers.network...|      altel|  57.85|    4|\n",
      "|2297252054407578606|2273948303177548033|computers.periphe...|      epson| 164.33|    3|\n",
      "|2350064635589165735|1515966223509089722|appliances.kitche...|        ava|   9.24|    3|\n",
      "|2388440981134624140|1515966223509244985|appliances.kitche...|    maxwell|  23.13|    3|\n",
      "|2316016961902871022|1515966223509104666|electronics.smart...|    samsung| 196.27|    3|\n",
      "|2388440981134668590|2309018246474367765|  electronics.clocks|     fossil| 213.17|    3|\n",
      "|2388440981134552963|1515966223509363071|computers.compone...|thermaltake|  32.62|    3|\n",
      "|2316018244177101460|1515966223509104666|electronics.smart...|    samsung| 196.27|    3|\n",
      "+-------------------+-------------------+--------------------+-----------+-------+-----+\n",
      "only showing top 10 rows\n",
      "\n"
     ]
    }
   ],
   "source": [
    "E_commerce4.groupBy('Order_ID', 'Product_ID', 'Category_Code', 'Brand', 'Price').count().sort(desc(\"count\")).show(10)"
   ]
  },
  {
   "cell_type": "code",
   "execution_count": 27,
   "metadata": {},
   "outputs": [],
   "source": [
    "E_commerce4.write.csv('/Users/manoj/desktop/Course Work -- BD & DV.csv',header=True)"
   ]
  },
  {
   "cell_type": "code",
   "execution_count": null,
   "metadata": {},
   "outputs": [],
   "source": []
  }
 ],
 "metadata": {
  "kernelspec": {
   "display_name": "Python 3",
   "language": "python",
   "name": "python3"
  },
  "language_info": {
   "codemirror_mode": {
    "name": "ipython",
    "version": 3
   },
   "file_extension": ".py",
   "mimetype": "text/x-python",
   "name": "python",
   "nbconvert_exporter": "python",
   "pygments_lexer": "ipython3",
   "version": "3.8.3"
  }
 },
 "nbformat": 4,
 "nbformat_minor": 4
}
