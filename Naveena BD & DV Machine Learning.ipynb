{
 "cells": [
  {
   "cell_type": "code",
   "execution_count": 1,
   "metadata": {},
   "outputs": [],
   "source": [
    "from pyspark.sql import SparkSession\n",
    "from pyspark.ml.regression import LinearRegression\n",
    "from pyspark.ml.feature import VectorAssembler\n",
    "from pyspark.sql.functions import corr\n",
    "spark = SparkSession.builder.appName('lrex').getOrCreate()"
   ]
  },
  {
   "cell_type": "code",
   "execution_count": 2,
   "metadata": {},
   "outputs": [],
   "source": [
    "dtFrame = spark.read.csv(path='/Users/manoj/Desktop/Naveena Project/Course Work -- BD & DV.csv/cleaneddata.csv', header = True, inferSchema = True)"
   ]
  },
  {
   "cell_type": "code",
   "execution_count": 3,
   "metadata": {},
   "outputs": [
    {
     "name": "stdout",
     "output_type": "stream",
     "text": [
      "(419890, 7)\n"
     ]
    }
   ],
   "source": [
    "print((dtFrame.count(), len(dtFrame.columns)))"
   ]
  },
  {
   "cell_type": "code",
   "execution_count": 4,
   "metadata": {},
   "outputs": [
    {
     "name": "stdout",
     "output_type": "stream",
     "text": [
      "root\n",
      " |-- Event_Time: string (nullable = true)\n",
      " |-- Order_ID: long (nullable = true)\n",
      " |-- Product_ID: long (nullable = true)\n",
      " |-- Category_Code: string (nullable = true)\n",
      " |-- Brand: string (nullable = true)\n",
      " |-- Price: double (nullable = true)\n",
      " |-- User_ID: double (nullable = true)\n",
      "\n"
     ]
    }
   ],
   "source": [
    "dtFrame.printSchema()"
   ]
  },
  {
   "cell_type": "code",
   "execution_count": 5,
   "metadata": {},
   "outputs": [
    {
     "name": "stdout",
     "output_type": "stream",
     "text": [
      "+-------+----------+--------------------+--------------------+------------------+--------+------------------+--------------------+\n",
      "|summary|Event_Time|            Order_ID|          Product_ID|     Category_Code|   Brand|             Price|             User_ID|\n",
      "+-------+----------+--------------------+--------------------+------------------+--------+------------------+--------------------+\n",
      "|  count|    419890|              419890|              419890|            419890|  419890|            419890|              419890|\n",
      "|   mean|      null|2.370508869981049...|1.676752749673554...|              null|    null|254.28161868586594|1.515915649999444...|\n",
      "| stddev|      null| 2.01414377327802E16|3.171233999238092...|              null|    null| 321.1676131705486|                 0.0|\n",
      "|    min|2020-01-05| 2294359932054536986| 1515966223509088493|   accessories.bag|   acana|               0.0|       1.51591565E18|\n",
      "|    max|2020-11-21| 2388440981134693944| 2388434452476865703|stationery.stapler|zwilling|          11574.05|       1.51591565E18|\n",
      "+-------+----------+--------------------+--------------------+------------------+--------+------------------+--------------------+\n",
      "\n"
     ]
    }
   ],
   "source": [
    "dtFrame.describe().show(5)"
   ]
  },
  {
   "cell_type": "code",
   "execution_count": 6,
   "metadata": {},
   "outputs": [
    {
     "name": "stdout",
     "output_type": "stream",
     "text": [
      "+----------+-------------------+-------------------+--------------------+-------+-------+-------------+\n",
      "|Event_Time|           Order_ID|         Product_ID|       Category_Code|  Brand|  Price|      User_ID|\n",
      "+----------+-------------------+-------------------+--------------------+-------+-------+-------------+\n",
      "|2020-04-24|2294359932054536986|1515966223509089906|  electronics.tablet|samsung| 162.01|1.51591565E18|\n",
      "|2020-04-24|2294359932054536986|1515966223509089906|  electronics.tablet|samsung| 162.01|1.51591565E18|\n",
      "|2020-04-24|2294444024058086220|2273948319057183658|electronics.audio...| huawei|  77.52|1.51591565E18|\n",
      "|2020-04-24|2294444024058086220|2273948319057183658|electronics.audio...| huawei|  77.52|1.51591565E18|\n",
      "|2020-04-26|2295716521449619559|1515966223509261697|furniture.kitchen...|maestro|  39.33|1.51591565E18|\n",
      "|2020-04-26|2295740594749702229|1515966223509104892|electronics.smart...|  apple|1387.01|1.51591565E18|\n",
      "|2020-04-26|2295740594749702229|1515966223509104892|electronics.smart...|  apple|1387.01|1.51591565E18|\n",
      "|2020-04-26|2295740594749702229|1515966223509104892|electronics.smart...|  apple|1387.01|1.51591565E18|\n",
      "|2020-04-26|2295740594749702229|1515966223509104892|electronics.smart...|  apple|1387.01|1.51591565E18|\n",
      "|2020-04-26|2295902490203259134|2273948311742316796|appliances.kitche...|     lg| 462.94|1.51591565E18|\n",
      "|2020-04-26|2296164324487463110|1515966223509259473|appliances.person...|polaris|  30.07|1.51591565E18|\n",
      "|2020-04-27|2296400480990920715|2273948308663698152|electronics.video.tv|samsung| 416.64|1.51591565E18|\n",
      "|2020-04-27|2296628237930857206|1515966223509089660|computers.compone...|  intel|  91.41|1.51591565E18|\n",
      "|2020-04-27|2296628237930857206|1515966223509089660|computers.compone...|  intel|  91.41|1.51591565E18|\n",
      "|2020-04-27|2296628237930857206|1515966223509089660|computers.compone...|  intel|  91.41|1.51591565E18|\n",
      "|2020-04-28|2297016008231092565|1515966223509089780|  computers.notebook|   asus| 509.24|1.51591565E18|\n",
      "|2020-04-28|2297174044555871159|2273948222957290212|computers.periphe...|samsung| 254.61|1.51591565E18|\n",
      "|2020-04-28|2297174044555871159|2273948222957290212|computers.periphe...|samsung| 254.61|1.51591565E18|\n",
      "|2020-04-28|2297252054407578606|2273948303177548033|computers.periphe...|  epson| 164.33|1.51591565E18|\n",
      "|2020-04-28|2297252054407578606|2273948303177548033|computers.periphe...|  epson| 164.33|1.51591565E18|\n",
      "+----------+-------------------+-------------------+--------------------+-------+-------+-------------+\n",
      "only showing top 20 rows\n",
      "\n"
     ]
    }
   ],
   "source": [
    "dtFrame.na.drop().show()"
   ]
  },
  {
   "cell_type": "code",
   "execution_count": 7,
   "metadata": {},
   "outputs": [
    {
     "name": "stdout",
     "output_type": "stream",
     "text": [
      "+---------------------+\n",
      "|corr(Order_ID, Price)|\n",
      "+---------------------+\n",
      "|  0.06470901042722335|\n",
      "+---------------------+\n",
      "\n"
     ]
    }
   ],
   "source": [
    "dtFrame.select(corr('Order_ID','Price')).show()"
   ]
  },
  {
   "cell_type": "code",
   "execution_count": 8,
   "metadata": {},
   "outputs": [],
   "source": [
    "assembler = VectorAssembler(inputCols=['Price'], outputCol='features')\n",
    "dtFrame1 = assembler.transform(dtFrame)"
   ]
  },
  {
   "cell_type": "code",
   "execution_count": 9,
   "metadata": {},
   "outputs": [],
   "source": [
    "dtFrame2 = dtFrame1.select(['features','Price'])"
   ]
  },
  {
   "cell_type": "code",
   "execution_count": 10,
   "metadata": {},
   "outputs": [],
   "source": [
    "train,test = dtFrame2.randomSplit([0.7, 0.3])"
   ]
  },
  {
   "cell_type": "code",
   "execution_count": 11,
   "metadata": {},
   "outputs": [
    {
     "name": "stdout",
     "output_type": "stream",
     "text": [
      "+--------+-----+\n",
      "|features|Price|\n",
      "+--------+-----+\n",
      "|   [0.0]|  0.0|\n",
      "|  [0.23]| 0.23|\n",
      "|  [0.23]| 0.23|\n",
      "|  [0.23]| 0.23|\n",
      "|  [0.23]| 0.23|\n",
      "+--------+-----+\n",
      "only showing top 5 rows\n",
      "\n"
     ]
    }
   ],
   "source": [
    "train.show(5)"
   ]
  },
  {
   "cell_type": "code",
   "execution_count": 12,
   "metadata": {},
   "outputs": [
    {
     "name": "stdout",
     "output_type": "stream",
     "text": [
      "+--------+-----+\n",
      "|features|Price|\n",
      "+--------+-----+\n",
      "|   [0.0]|  0.0|\n",
      "|   [0.0]|  0.0|\n",
      "|  [0.02]| 0.02|\n",
      "|  [0.23]| 0.23|\n",
      "|  [0.23]| 0.23|\n",
      "+--------+-----+\n",
      "only showing top 5 rows\n",
      "\n"
     ]
    }
   ],
   "source": [
    "test.show(5)"
   ]
  },
  {
   "cell_type": "code",
   "execution_count": 13,
   "metadata": {},
   "outputs": [],
   "source": [
    "lr = LinearRegression(featuresCol = 'features', labelCol='Price')\n",
    "lrModel = lr.fit(train)"
   ]
  },
  {
   "cell_type": "code",
   "execution_count": 14,
   "metadata": {},
   "outputs": [
    {
     "name": "stdout",
     "output_type": "stream",
     "text": [
      "Intercept: 1.1576099662839685e-13\n",
      "Coefficient: [1.]\n"
     ]
    }
   ],
   "source": [
    "print(f'Intercept: {lrModel.intercept}\\nCoefficient: {lrModel.coefficients.values}')"
   ]
  },
  {
   "cell_type": "code",
   "execution_count": 15,
   "metadata": {},
   "outputs": [
    {
     "name": "stdout",
     "output_type": "stream",
     "text": [
      "RMSE: 0.000000\n",
      "\n",
      "r2: 1.000000\n"
     ]
    }
   ],
   "source": [
    "trainSummary = lrModel.summary\n",
    "print(\"RMSE: %f\" % trainSummary.rootMeanSquaredError)\n",
    "print(\"\\nr2: %f\" % trainSummary.r2)"
   ]
  },
  {
   "cell_type": "code",
   "execution_count": 16,
   "metadata": {},
   "outputs": [
    {
     "name": "stdout",
     "output_type": "stream",
     "text": [
      "+--------------------+-----+--------------------+--------+\n",
      "|          prediction|Price|            Accuracy|features|\n",
      "+--------------------+-----+--------------------+--------+\n",
      "|1.157609966283968...|  0.0|                null|   [0.0]|\n",
      "|1.157609966283968...|  0.0|                null|   [0.0]|\n",
      "|0.020000000000115755| 0.02|5.787731405249019...|  [0.02]|\n",
      "|  0.2300000000001157| 0.23|5.029793007214839...|  [0.23]|\n",
      "|  0.2300000000001157| 0.23|5.029793007214839...|  [0.23]|\n",
      "+--------------------+-----+--------------------+--------+\n",
      "only showing top 5 rows\n",
      "\n"
     ]
    }
   ],
   "source": [
    "from  pyspark.sql.functions import abs\n",
    "predictions = lrModel.transform(test)\n",
    "x =((predictions['Price']-predictions['prediction'])/predictions['Price'])*100\n",
    "predictions = predictions.withColumn('Accuracy',abs(x))\n",
    "predictions.select(\"prediction\",\"Price\",\"Accuracy\",\"features\").show(5)"
   ]
  },
  {
   "cell_type": "code",
   "execution_count": 17,
   "metadata": {},
   "outputs": [
    {
     "name": "stdout",
     "output_type": "stream",
     "text": [
      "R Squared (R2) on test data = 1\n"
     ]
    }
   ],
   "source": [
    "from pyspark.ml.evaluation import RegressionEvaluator\n",
    "pred_evaluator = RegressionEvaluator(predictionCol=\"prediction\", labelCol=\"Price\",metricName=\"r2\")\n",
    "print(\"R Squared (R2) on test data = %g\" % pred_evaluator.evaluate(predictions))"
   ]
  },
  {
   "cell_type": "code",
   "execution_count": 18,
   "metadata": {},
   "outputs": [],
   "source": [
    "r2 = trainSummary.r2\n",
    "n = dtFrame.count()\n",
    "p = len(dtFrame.columns)\n",
    "adjusted_r2 = 1-(1-r2)*(n-1)/(n-p-1)"
   ]
  },
  {
   "cell_type": "code",
   "execution_count": 19,
   "metadata": {},
   "outputs": [],
   "source": [
    "lin_reg = LinearRegression(featuresCol = 'features', labelCol='Price',maxIter=50, regParam=0.12, elasticNetParam=0.2)\n",
    "linear_model = lin_reg.fit(train)"
   ]
  },
  {
   "cell_type": "code",
   "execution_count": 20,
   "metadata": {},
   "outputs": [
    {
     "data": {
      "text/plain": [
       "0.11996397032091072"
      ]
     },
     "execution_count": 20,
     "metadata": {},
     "output_type": "execute_result"
    }
   ],
   "source": [
    "linear_model.summary.rootMeanSquaredError"
   ]
  },
  {
   "cell_type": "code",
   "execution_count": null,
   "metadata": {},
   "outputs": [],
   "source": []
  }
 ],
 "metadata": {
  "kernelspec": {
   "display_name": "Python 3",
   "language": "python",
   "name": "python3"
  },
  "language_info": {
   "codemirror_mode": {
    "name": "ipython",
    "version": 3
   },
   "file_extension": ".py",
   "mimetype": "text/x-python",
   "name": "python",
   "nbconvert_exporter": "python",
   "pygments_lexer": "ipython3",
   "version": "3.8.3"
  }
 },
 "nbformat": 4,
 "nbformat_minor": 4
}
